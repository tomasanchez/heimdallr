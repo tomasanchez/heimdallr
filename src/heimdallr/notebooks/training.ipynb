{
 "cells": [
  {
   "cell_type": "markdown",
   "source": [
    "# Model Training\n",
    "\n",
    "## Data Preprocessing\n",
    "\n",
    "1. Load data from MongoDB\n",
    "2. Transform data into a format that can be used by the model, e.g. a pandas dataframe\n",
    "3. Split data into training and testing sets"
   ],
   "metadata": {
    "collapsed": false
   },
   "id": "e9db07c21f8cf378"
  },
  {
   "cell_type": "code",
   "execution_count": 1,
   "outputs": [
    {
     "name": "stdout",
     "output_type": "stream",
     "text": [
      "IPython autoawait is `on`, and set to use `asyncio`\n"
     ]
    }
   ],
   "source": [
    "%autoawait"
   ],
   "metadata": {
    "collapsed": false,
    "ExecuteTime": {
     "end_time": "2023-11-08T22:12:29.901315Z",
     "start_time": "2023-11-08T22:12:29.887314900Z"
    }
   },
   "id": "f30dd37c7cdd561a"
  },
  {
   "cell_type": "code",
   "execution_count": 1,
   "outputs": [
    {
     "name": "stdout",
     "output_type": "stream",
     "text": [
      "Training Data Shape: (65, 2)\n",
      "Testing Data Shape: (33, 2)\n"
     ]
    },
    {
     "data": {
      "text/plain": "<Figure size 800x400 with 1 Axes>",
      "image/png": "[encoded data removed]"
     },
     "metadata": {},
     "output_type": "display_data"
    }
   ],
   "source": [
    "import pandas as pd\n",
    "import seaborn as sns\n",
    "from matplotlib import pyplot as plt\n",
    "from sklearn.model_selection import train_test_split\n",
    "\n",
    "# use heimdallr package\n",
    "from heimdallr.adapters.db import ClientFactory\n",
    "from heimdallr.adapters.motor_repositories import MotorAssignmentRepository\n",
    "\n",
    "repository = MotorAssignmentRepository(client=ClientFactory(url=\"mongodb://localhost:27017\")(), db_name=\"heimdallr-dev\")\n",
    "assignments = await repository.find_all()\n",
    "\n",
    "# convert to pandas dataframe\n",
    "df = pd.DataFrame(\n",
    "    [{'text': ' '.join(assignment.content), 'label': str(assignment.topic)} for assignment in assignments]\n",
    ")\n",
    "\n",
    "train, test = train_test_split(df, test_size=0.33, random_state=42)\n",
    "\n",
    "### DATA RESULTS\n",
    "print('Training Data Shape:', train.shape)\n",
    "print('Testing Data Shape:', test.shape)\n",
    "\n",
    "# data\n",
    "train1 = train['text'].tolist()\n",
    "labelsTrain1 = train['label'].tolist()\n",
    "\n",
    "fig = plt.figure(figsize=(8, 4))\n",
    "sns.barplot(x=train['label'].unique(), y=train['label'].value_counts())\n",
    "plt.show()"
   ],
   "metadata": {
    "collapsed": false,
    "ExecuteTime": {
     "end_time": "2023-11-08T22:23:50.069246600Z",
     "start_time": "2023-11-08T22:23:49.140726800Z"
    }
   },
   "id": "73962c0a19a6819e"
  },
  {
   "cell_type": "markdown",
   "source": [
    "## Model Training\n",
    "\n",
    "1. Load `spaCy` model\n",
    "2. With the load `spaCy's` model, create Heimdallr's `SklearnTopicPredictor`\n",
    "3. Fit `Pipeline` with training data"
   ],
   "metadata": {
    "collapsed": false
   },
   "id": "57b882c697c1c5f6"
  },
  {
   "cell_type": "code",
   "execution_count": 2,
   "outputs": [
    {
     "name": "stderr",
     "output_type": "stream",
     "text": [
      "[nltk_data] Downloading package stopwords to\n",
      "[nltk_data]     C:\\Users\\Tomas\\AppData\\Roaming\\nltk_data...\n",
      "[nltk_data]   Package stopwords is already up-to-date!\n",
      "C:\\Users\\Tomas\\AppData\\Local\\pypoetry\\Cache\\virtualenvs\\heimdallr-BxNfmjxl-py3.10\\lib\\site-packages\\sklearn\\feature_extraction\\text.py:525: UserWarning: The parameter 'token_pattern' will not be used since 'tokenizer' is not None'\n",
      "  warnings.warn(\n",
      "C:\\Users\\Tomas\\AppData\\Local\\pypoetry\\Cache\\virtualenvs\\heimdallr-BxNfmjxl-py3.10\\lib\\site-packages\\sklearn\\svm\\_classes.py:32: FutureWarning: The default value of `dual` will change from `True` to `'auto'` in 1.5. Set the value of `dual` explicitly to suppress the warning.\n",
      "  warnings.warn(\n"
     ]
    },
    {
     "data": {
      "text/plain": "Pipeline(steps=[('clean_up',\n                 <heimdallr.adapters.text_processing.CleanTextTransformer object at 0x0000022C8D829960>),\n                ('vectorize',\n                 CountVectorizer(tokenizer=<bound method SklearnTopicPredictor.tokenize of <heimdallr.adapters.assignment_reader.SklearnTopicPredictor object at 0x0000022C8D558F10>>)),\n                ('clf', LinearSVC())])",
      "text/html": "<style>#sk-container-id-1 {color: black;}#sk-container-id-1 pre{padding: 0;}#sk-container-id-1 div.sk-toggleable {background-color: white;}#sk-container-id-1 label.sk-toggleable__label {cursor: pointer;display: block;width: 100%;margin-bottom: 0;padding: 0.3em;box-sizing: border-box;text-align: center;}#sk-container-id-1 label.sk-toggleable__label-arrow:before {content: \"▸\";float: left;margin-right: 0.25em;color: #696969;}#sk-container-id-1 label.sk-toggleable__label-arrow:hover:before {color: black;}#sk-container-id-1 div.sk-estimator:hover label.sk-toggleable__label-arrow:before {color: black;}#sk-container-id-1 div.sk-toggleable__content {max-height: 0;max-width: 0;overflow: hidden;text-align: left;background-color: #f0f8ff;}#sk-container-id-1 div.sk-toggleable__content pre {margin: 0.2em;color: black;border-radius: 0.25em;background-color: #f0f8ff;}#sk-container-id-1 input.sk-toggleable__control:checked~div.sk-toggleable__content {max-height: 200px;max-width: 100%;overflow: auto;}#sk-container-id-1 input.sk-toggleable__control:checked~label.sk-toggleable__label-arrow:before {content: \"▾\";}#sk-container-id-1 div.sk-estimator input.sk-toggleable__control:checked~label.sk-toggleable__label {background-color: #d4ebff;}#sk-container-id-1 div.sk-label input.sk-toggleable__control:checked~label.sk-toggleable__label {background-color: #d4ebff;}#sk-container-id-1 input.sk-hidden--visually {border: 0;clip: rect(1px 1px 1px 1px);clip: rect(1px, 1px, 1px, 1px);height: 1px;margin: -1px;overflow: hidden;padding: 0;position: absolute;width: 1px;}#sk-container-id-1 div.sk-estimator {font-family: monospace;background-color: #f0f8ff;border: 1px dotted black;border-radius: 0.25em;box-sizing: border-box;margin-bottom: 0.5em;}#sk-container-id-1 div.sk-estimator:hover {background-color: #d4ebff;}#sk-container-id-1 div.sk-parallel-item::after {content: \"\";width: 100%;border-bottom: 1px solid gray;flex-grow: 1;}#sk-container-id-1 div.sk-label:hover label.sk-toggleable__label {background-color: #d4ebff;}#sk-container-id-1 div.sk-serial::before {content: \"\";position: absolute;border-left: 1px solid gray;box-sizing: border-box;top: 0;bottom: 0;left: 50%;z-index: 0;}#sk-container-id-1 div.sk-serial {display: flex;flex-direction: column;align-items: center;background-color: white;padding-right: 0.2em;padding-left: 0.2em;position: relative;}#sk-container-id-1 div.sk-item {position: relative;z-index: 1;}#sk-container-id-1 div.sk-parallel {display: flex;align-items: stretch;justify-content: center;background-color: white;position: relative;}#sk-container-id-1 div.sk-item::before, #sk-container-id-1 div.sk-parallel-item::before {content: \"\";position: absolute;border-left: 1px solid gray;box-sizing: border-box;top: 0;bottom: 0;left: 50%;z-index: -1;}#sk-container-id-1 div.sk-parallel-item {display: flex;flex-direction: column;z-index: 1;position: relative;background-color: white;}#sk-container-id-1 div.sk-parallel-item:first-child::after {align-self: flex-end;width: 50%;}#sk-container-id-1 div.sk-parallel-item:last-child::after {align-self: flex-start;width: 50%;}#sk-container-id-1 div.sk-parallel-item:only-child::after {width: 0;}#sk-container-id-1 div.sk-dashed-wrapped {border: 1px dashed gray;margin: 0 0.4em 0.5em 0.4em;box-sizing: border-box;padding-bottom: 0.4em;background-color: white;}#sk-container-id-1 div.sk-label label {font-family: monospace;font-weight: bold;display: inline-block;line-height: 1.2em;}#sk-container-id-1 div.sk-label-container {text-align: center;}#sk-container-id-1 div.sk-container {/* jupyter's `normalize.less` sets `[hidden] { display: none; }` but bootstrap.min.css set `[hidden] { display: none !important; }` so we also need the `!important` here to be able to override the default hidden behavior on the sphinx rendered scikit-learn.org. See: https://github.com/scikit-learn/scikit-learn/issues/21755 */display: inline-block !important;position: relative;}#sk-container-id-1 div.sk-text-repr-fallback {display: none;}</style><div id=\"sk-container-id-1\" class=\"sk-top-container\"><div class=\"sk-text-repr-fallback\"><pre>Pipeline(steps=[(&#x27;clean_up&#x27;,\n                 &lt;heimdallr.adapters.text_processing.CleanTextTransformer object at 0x0000022C8D829960&gt;),\n                (&#x27;vectorize&#x27;,\n                 CountVectorizer(tokenizer=&lt;bound method SklearnTopicPredictor.tokenize of &lt;heimdallr.adapters.assignment_reader.SklearnTopicPredictor object at 0x0000022C8D558F10&gt;&gt;)),\n                (&#x27;clf&#x27;, LinearSVC())])</pre><b>In a Jupyter environment, please rerun this cell to show the HTML representation or trust the notebook. <br />On GitHub, the HTML representation is unable to render, please try loading this page with nbviewer.org.</b></div><div class=\"sk-container\" hidden><div class=\"sk-item sk-dashed-wrapped\"><div class=\"sk-label-container\"><div class=\"sk-label sk-toggleable\"><input class=\"sk-toggleable__control sk-hidden--visually\" id=\"sk-estimator-id-1\" type=\"checkbox\" ><label for=\"sk-estimator-id-1\" class=\"sk-toggleable__label sk-toggleable__label-arrow\">Pipeline</label><div class=\"sk-toggleable__content\"><pre>Pipeline(steps=[(&#x27;clean_up&#x27;,\n                 &lt;heimdallr.adapters.text_processing.CleanTextTransformer object at 0x0000022C8D829960&gt;),\n                (&#x27;vectorize&#x27;,\n                 CountVectorizer(tokenizer=&lt;bound method SklearnTopicPredictor.tokenize of &lt;heimdallr.adapters.assignment_reader.SklearnTopicPredictor object at 0x0000022C8D558F10&gt;&gt;)),\n                (&#x27;clf&#x27;, LinearSVC())])</pre></div></div></div><div class=\"sk-serial\"><div class=\"sk-item\"><div class=\"sk-estimator sk-toggleable\"><input class=\"sk-toggleable__control sk-hidden--visually\" id=\"sk-estimator-id-2\" type=\"checkbox\" ><label for=\"sk-estimator-id-2\" class=\"sk-toggleable__label sk-toggleable__label-arrow\">CleanTextTransformer</label><div class=\"sk-toggleable__content\"><pre>&lt;heimdallr.adapters.text_processing.CleanTextTransformer object at 0x0000022C8D829960&gt;</pre></div></div></div><div class=\"sk-item\"><div class=\"sk-estimator sk-toggleable\"><input class=\"sk-toggleable__control sk-hidden--visually\" id=\"sk-estimator-id-3\" type=\"checkbox\" ><label for=\"sk-estimator-id-3\" class=\"sk-toggleable__label sk-toggleable__label-arrow\">CountVectorizer</label><div class=\"sk-toggleable__content\"><pre>CountVectorizer(tokenizer=&lt;bound method SklearnTopicPredictor.tokenize of &lt;heimdallr.adapters.assignment_reader.SklearnTopicPredictor object at 0x0000022C8D558F10&gt;&gt;)</pre></div></div></div><div class=\"sk-item\"><div class=\"sk-estimator sk-toggleable\"><input class=\"sk-toggleable__control sk-hidden--visually\" id=\"sk-estimator-id-4\" type=\"checkbox\" ><label for=\"sk-estimator-id-4\" class=\"sk-toggleable__label sk-toggleable__label-arrow\">LinearSVC</label><div class=\"sk-toggleable__content\"><pre>LinearSVC()</pre></div></div></div></div></div></div></div>"
     },
     "execution_count": 2,
     "metadata": {},
     "output_type": "execute_result"
    }
   ],
   "source": [
    "import spacy\n",
    "from heimdallr.dependencies import NLP_SPANISH\n",
    "from heimdallr.adapters.assignment_reader import SklearnTopicPredictor\n",
    "\n",
    "nlp = spacy.load(NLP_SPANISH)\n",
    "\n",
    "topic_predictor = SklearnTopicPredictor(nlp=nlp, download=True)\n",
    "\n",
    "topic_predictor.pipeline.fit(train1, labelsTrain1)"
   ],
   "metadata": {
    "collapsed": false,
    "ExecuteTime": {
     "start_time": "2023-11-08T22:23:53.828595100Z"
    }
   },
   "id": "1dc0d6a57d59d07c"
  },
  {
   "cell_type": "markdown",
   "source": [
    "## Verification\n",
    "\n",
    "1. Use `joblib` to persist the pipeline.\n",
    "2. Instance a new SklearnTopicPredictor with the persisted pipeline path.\n",
    "3. Use an example\n",
    "4. Print the prediction"
   ],
   "metadata": {
    "collapsed": false
   },
   "id": "e6eaee428f2e4d46"
  },
  {
   "cell_type": "code",
   "execution_count": 3,
   "outputs": [
    {
     "data": {
      "text/plain": "['topic_predictor.joblib']"
     },
     "execution_count": 3,
     "metadata": {},
     "output_type": "execute_result"
    }
   ],
   "source": [
    "import joblib\n",
    "\n",
    "path = 'topic_predictor.joblib'\n",
    "joblib.dump(topic_predictor.pipeline, path)"
   ],
   "metadata": {
    "collapsed": false,
    "ExecuteTime": {
     "start_time": "2023-11-08T22:25:06.044176700Z"
    }
   },
   "id": "246aa163cfaa9f1c"
  },
  {
   "cell_type": "code",
   "execution_count": 5,
   "outputs": [
    {
     "name": "stdout",
     "output_type": "stream",
     "text": [
      "Emerging Systems\n"
     ]
    }
   ],
   "source": [
    "new_predictor = SklearnTopicPredictor(nlp=nlp, download=False, model_path=path)\n",
    "\n",
    "emerging_systems_text = \"\"\"\n",
    "MARKETING EN INTERNET Y NUEVA ECONOMIA\n",
    "TP 6: Sistemas Emergentes\n",
    "Profesor: Prince, Alejandro\n",
    "Alumno: Spadafora, Franco Luciano\n",
    "Legajo: 138332-2\n",
    "\n",
    "PREGUNTAS TP \n",
    "Steven Johnson - Sistemas emergentes\n",
    "\n",
    "1)\tCuáles son los 4 principios centrales del estudio de los sistemas emergentes?\n",
    "Interacción de vecinos\n",
    "Reconocimiento de patrones\n",
    "Retroalimentación\n",
    "Control indirecto.\n",
    "\n",
    "2)\tDescriba en no más de 10 renglones la particular conducta del Dictiostellum y sus implicancias.\n",
    "El moho de fango oscila entre ser una única criatura y una colonia. Si las condiciones climáticas cambian y el tiempo se vuelve más húmedo y frío, puede ocurrir que regresen al mismo sitio y comprueben que ha desaparecido por completo.\n",
    "El moho de fango pasa buena parte de su vida como miles de\n",
    "Organismos unicelulares distintos; cada uno se mueve independientemente  de sus otros compañeros. Bajo las condiciones adecuadas se producirá la coalescencia de esas miríadas de células en un solo organismo mayor que comienza a reptar pausadamente por el suelo del jardín consumiendo a su paso hojas y cortezas en descomposición. Cuando el entorno es menos favorable, el moho de fango se comporta como un organismo aislado; cuando el tiempo es más frío y el moho dispone de una cantidad de alimento mayor, \"él\" se transforma en “ellos”.\n",
    "\n",
    "3)\tQué es la morfogénesis, quién desarrolló esta idea en 1954?\n",
    "Turing publicó antes de su muerte, en 1954, trataba de la \"morfogénesis\", la capacidad de todas las formas, de vida de desarrollar cuerpos cada vez más complejos a partir de orígenes increíblemente simples. El trabajo de Turing se centraba en la recurrencia de los patrones numéricos de las flores,6 pero usando\n",
    "Herramientas matemáticas demostraba cómo un organismo complejo podía desarrollarse sin ninguna dirección o plan maestro.\n",
    "Es el proceso biológico que lleva a que un organismo desarrolle su forma. Este es uno de los tres aspectos fundamentales del desarrollo biológico junto con el control del crecimiento celular y la diferenciación celular.\n",
    "\n",
    "Este proceso controla la distribución espacial organizada de las células durante el desarrollo embrionario de un organismo. La morfogénesis también puede tener lugar en un organismo maduro, en un cultivo de células o dentro de un tumor celular. La morfogénesis asimismo, describe el desarrollo de formas de vida unicelular que no atraviesan por una etapa embrionaria en sus ciclos de vida, o describe la evolución de una estructura corporal dentro de un grupo taxonómico.\n",
    "\n",
    "Las respuestas morfogenéticas podrían ser inducidas en los organismos por las hormonas endógenas, por químicos en el ambiente que van desde sustancias producidas por otros organismos hasta químicos tóxicos y radioisótopos liberados como contaminantes, o por el estrés mecánico inducido por un patrón espacial de células.\n",
    "\n",
    "4)\tDescriba los conceptos o conductas “adaptativas” y “complejas”.  Describa sistema ascendente y sistema dinámico.\n",
    "Son sistemas ascendentes,  Extraen su inteligencia de la base. En un lenguaje más técnico, son sistemas complejos de adaptación que despliegan comportamientos emergentes.13 En estos sistemas, los agentes que residen en una escala comienzan a producir comportamientos que yacen en una escala superior a la suya: las hormigas crean colonias, los habitantes de una ciudad crean barrios, un software de reconocimiento de patrón simple aprende a recomendar libros. La\n",
    "Evolución de reglas simples a complejas es lo que llamamos \"emergencia\".\n",
    "\n",
    "Comportamiento complejo: un sistema con agentes múltiples que interactúan en forma dinámica de múltiples maneras, siguiendo reglas locales e independientes de cualquier instrucción de un nivel superior. Sin embargo, este sistema no sería considerado emergente si las interacciones locales no fueran, en alguna forma, de macroconducta observable.\n",
    "\n",
    "5)\tDescriba un sistema emergente o auto organizativo y diferéncielo de un sistema evolutivo o del caos. \n",
    "Un sistema es auto-organizable cuando cambia su estructura básica como una función de su experiencia y ambiente, por ejemplo en la red Internet los agentes más simples pueden operar en situaciones imprevistas y adaptarse para cambiar condiciones.\n",
    "Los sistemas complejos se caracterizan fundamentalmente porque su comportamiento es imprevisible, la interacción entre sus elementos es local y origina un comportamiento emergente que no puede explicarse a partir de dichos elementos tomados aisladamente, es muy difícil predecir su evolución dinámica futura; o sea, es prácticamente imposible vaticinar lo que ocurrirá más allá de un cierto horizonte temporal.\n",
    "\"\"\"\n",
    "\n",
    "# Should be 'Emerging Systems'\n",
    "print(new_predictor.predict(emerging_systems_text))"
   ],
   "metadata": {
    "collapsed": false,
    "ExecuteTime": {
     "end_time": "2023-11-08T22:27:14.801326300Z",
     "start_time": "2023-11-08T22:27:11.997992300Z"
    }
   },
   "id": "e78c70a91b423001"
  }
 ],
 "metadata": {
  "kernelspec": {
   "display_name": "Python 3",
   "language": "python",
   "name": "python3"
  },
  "language_info": {
   "codemirror_mode": {
    "name": "ipython",
    "version": 2
   },
   "file_extension": ".py",
   "mimetype": "text/x-python",
   "name": "python",
   "nbconvert_exporter": "python",
   "pygments_lexer": "ipython2",
   "version": "2.7.6"
  }
 },
 "nbformat": 4,
 "nbformat_minor": 5
}
