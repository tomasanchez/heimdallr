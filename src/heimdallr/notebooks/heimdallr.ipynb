{
 "cells": [
  {
   "cell_type": "code",
   "execution_count": 1,
   "id": "initial_id",
   "metadata": {
    "collapsed": true,
    "ExecuteTime": {
     "end_time": "2023-10-01T16:21:02.690270700Z",
     "start_time": "2023-10-01T16:20:58.330044200Z"
    }
   },
   "outputs": [
    {
     "name": "stdout",
     "output_type": "stream",
     "text": [
      "Cosine Similarity Percentage: 99.23%\n"
     ]
    }
   ],
   "source": [
    "import spacy\n",
    "\n",
    "# Load the spaCy model\n",
    "nlp = spacy.load(\"en_core_web_lg\")\n",
    "\n",
    "# Define your sentences\n",
    "sentence_a = \"This is a long sentence.\"\n",
    "sentence_b = \"This is a really long sentence.\"\n",
    "\n",
    "# Process the sentences with spaCy\n",
    "doc_a = nlp(sentence_a)\n",
    "doc_b = nlp(sentence_b)\n",
    "\n",
    "# Calculate the cosine similarity between the processed sentences\n",
    "similarity_percentage = doc_a.similarity(doc_b) * 100\n",
    "\n",
    "# Print the similarity score\n",
    "print(f\"Cosine Similarity Percentage: {similarity_percentage:.2f}%\")"
   ]
  },
  {
   "cell_type": "code",
   "execution_count": 2,
   "outputs": [],
   "source": [
    "nlp = spacy.load(\"es_core_news_lg\")"
   ],
   "metadata": {
    "collapsed": false,
    "ExecuteTime": {
     "end_time": "2023-10-01T16:21:08.321294200Z",
     "start_time": "2023-10-01T16:21:07.062294500Z"
    }
   },
   "id": "190809e9d16cc625"
  },
  {
   "cell_type": "code",
   "execution_count": 3,
   "outputs": [
    {
     "name": "stdout",
     "output_type": "stream",
     "text": [
      "Page 0 has 4 sentences\n",
      "Page 1 has 16 sentences\n",
      "Page 2 has 13 sentences\n",
      "Page 3 has 19 sentences\n",
      "[0][0]: Márketing\n",
      "[0][1]: en internet y nueva economía\n",
      "Economía de experiencia\n",
      "Profesores:\n",
      "Dr. Alejandro Prince\n",
      "Ing. Hernán Borré\n",
      "Ing. Maximiliano Bracho\n",
      "Alumno\n",
      "[0][2]: :\n",
      "Gallazzi, Pablo Gabriel      143.370-2\n",
      "Fecha de Presentación\n",
      "10/04/2017\n",
      "[1][0]: Cuestionario:\n",
      "1.- ¿Qué 3 elementos hacen resurgir con fuerza la idea de una economía de experiencia?\n",
      "[1][1]: 2.- Defina y caracterice una experiencia.\n",
      "[1][2]: Diferencias con Producto y Servicio.\n",
      "[1][3]: 3.- Explique y grafique las dimensiones y campos de la experiencia.\n",
      "[1][4]: 4.- Describa “impresiones” y sus distintas dimensiones.\n",
      "[1][5]: 5.- De 3 ejemplos distintos (reales si conoce, o invente) de experiencias con estimulación de los sentidos.\n",
      "[1][6]: 6.-  Qué es la personalización masiva?\n",
      "[1][7]: Explique la progresión del valor.\n",
      "[1][8]: 7.- Cuáles son las ventajas para la empresa de la personalización masiva?\n",
      "[1][9]: 8.- Describa los 4 tipos de personalización masiva.\n",
      "[1][10]: 9.- ¿Qué aporta el ciberespacio al tema “sacrificio del cliente”?\n",
      "Respuestas:\n",
      "1.- Los tres elementos son:\n",
      "●\n",
      "El poder de la tecnología que actúa como facilitador.\n",
      "[1][11]: ●\n",
      "La creciente intensidad de la competencia que hace que se tengan que diferenciar.\n",
      "[1][12]: ●\n",
      "La prosperidad,\n",
      "[1][13]: es decir, hoy en día se busca menos rutina, más sorpresas\n",
      "(experiencias)\n",
      "2.- Cuando hablamos del producto nos referimos a, por ejemplo, una taza, un café, etc… Si nos referimos a un servicio hablamos de un conjunto de actividades es decir algo customizado para el cliente, pero cuando hablamos de una experiencia nos referimos a algo más, pagamos para disfrutar de una serie de eventos acondicionados para atraparnos y gozar de una manera distinta que solo comprar el producto o adquirir el servicio.\n",
      "[1][14]: De hecho se usan los productos y servicios como herramientas para lograr entretener a los clientes.\n",
      "[2][0]: 3.- Dimensiones:\n",
      "●\n",
      "Grado de participación que puede ser pasiva (el cliente es un observador) o activa (tiene como protagonista al cliente)\n",
      "●\n",
      "Conexión cliente-evento que puede ir desde la atención o absorción hasta la inmersión física o virtual.\n",
      "[2][1]: Estas dimensiones se cruzan generando los cuatro campos:\n",
      "●\n",
      "Entretenimiento: La persona pasivamente absorbe lo que lo que ocurre a través de sus sentidos.\n",
      "[2][2]: ●\n",
      "Educación: Alcanza con la atención por parte de la persona, pero requiere participación activa de la misma.\n",
      "[2][3]: ●\n",
      "Estética: El individuo se sumerge pero no participa.\n",
      "[2][4]: ●\n",
      "Escapismo: Máxima inmersión y protagonismo absoluto.\n",
      "[2][5]: 4.- Cuando nos referimos a impresiones, hablamos de lo que se lleva el cliente de la experiencia vivida, es decir, los recuerdos.\n",
      "[2][6]: Las dimensiones son:\n",
      "●\n",
      "Tiempo: Tradicionales, contemporáneas o futuristas.\n",
      "[2][7]: ●\n",
      "Espacio: ¿Donde se desarrollan?\n",
      "[2][8]: En el hogar, en el trabajo, interiores, exteriores, etc…\n",
      "●\n",
      "Tecnología: Vanguardia, artesanales, naturales o artificiales.\n",
      "[2][9]: ●\n",
      "Autenticidad: Originales o imitaciones.\n",
      "[2][10]: ●\n",
      "Sofisticación: Nivel de refinamiento o lujo.\n",
      "[2][11]: ●\n",
      "Escala: Grandioso, sencillo o pequeño.\n",
      "[3][0]: 5.- Algunos ejemplo pueden ser Disney, Las Vegas, Starbucks, Restaurantes temáticos, Juegos Mentales (solojuegosmentales.com) y así podemos mencionar muchos otros.\n",
      "[3][1]: 6.- La personalización masiva, se trata de atender a los clientes de una forma única, combinando los imperativos vigentes de bajo costo y la individualización que requiere el mercado.\n",
      "[3][2]: Se trata de lograr lo mejor de ambas partes, masividad y personalización.\n",
      "[3][3]: En un principio surgió la economía de las “commodities” (animales, minerales, vegetales etc...) Cuando a esas “commodities” se las empezó a usar como materia prima de productos, pasamos de una economía agraria a una industrial.\n",
      "[3][4]: El problema es que con el tiempo se dió un proceso de comoditización y el producto se convirtió en “commoditie”.\n",
      "[3][5]: El antídoto para eso es la personalización, y pasamos a una economía de servicios y con el tiempo se volvió a producir el proceso de comoditización.\n",
      "[3][6]: Si otra vez aplicamos un proceso de personalización pasamos a la economía de la experiencia.\n",
      "[3][7]: Cuanto más personalizado se haga, más alto es el precio al que se puede vender.\n",
      "[3][8]: A esto Joseph Pine lo llama la progresión del valor.\n",
      "[3][9]: 7.- Las ventajas para la empresa son varias, mejorar los precios, mayor ingreso por cliente, menor necesidad de hacer descuentos, más retención, y adquisición de clientes por un costo más bajo.\n",
      "[3][10]: 8.- Los cuatro tipos son:\n",
      "●\n",
      "Personalización colaborativa o experiencia exploratoria: La empresa interactúa directamente con el cliente, el producto final surge del trabajo conjunto.\n",
      "[3][11]: Primero se modifica la representación y luego el producto.\n",
      "[3][12]: ●\n",
      "Personalización adaptativa o experiencia real: En esta no cambia ni el producto ni la representación, sino que a partir de varias opciones el cliente cambia alguna funcionalidad (las opciones ya están incluidas en la oferta).\n",
      "[3][13]: ●\n",
      "Personalización cosmética o experiencia gratificante: Customizar la representación, el producto se siente como diseñado para uno.\n",
      "[3][14]: ●\n",
      "Personalización transparente o experiencia elusiva: El cliente ya recibe una oferta a medida y no se entera explícitamente del proceso de personalización\n",
      "9.- El ciberespacio es un excelente medio para evaluar el nivel de sacrificio (brecha entre lo que el cliente realmente quiere y lo que termina aceptando).\n",
      "[3][15]: Por ejemplo el email.\n",
      "[3][16]: Además potencia el marketing uno a uno y el aprendizaje contínuo de las necesidades y gustos del cliente por parte de la empresa.\n"
     ]
    }
   ],
   "source": [
    "import fitz\n",
    "\n",
    "from heimdallr.utils.formatting import contains_letters_or_numbers, normalize_sentence\n",
    "\n",
    "file_path = \"F:\\dev\\heimdallr\\data\\experience_economy.pdf\"\n",
    "doc = fitz.Document(file_path)\n",
    "paragraphs = []\n",
    "\n",
    "for page_num in range(len(doc)):\n",
    "    page = doc[page_num]\n",
    "    text = page.get_textpage().extractText()\n",
    "\n",
    "    nlp_document = nlp(text)\n",
    "\n",
    "    # Split the page text into paragraphs based on newlines ('\\n')\n",
    "    page_sentences = [normalize_sentence(str(s)) for s in nlp_document.sents]\n",
    "\n",
    "    print(f\"Page {page_num} has {len(page_sentences)} sentences\")\n",
    "    # Append non-empty paragraphs to the list\n",
    "    paragraphs.append([p.strip() for p in page_sentences if contains_letters_or_numbers(p)])\n",
    "\n",
    "for i in range(len(paragraphs)):\n",
    "    for j in range(len(paragraphs[i])):\n",
    "        print(f\"[{i}][{j}]: {paragraphs[i][j]}\")\n"
   ],
   "metadata": {
    "collapsed": false,
    "ExecuteTime": {
     "end_time": "2023-10-01T16:21:13.558418Z",
     "start_time": "2023-10-01T16:21:13.253287Z"
    }
   },
   "id": "1f28fd35786a6fe8"
  },
  {
   "cell_type": "code",
   "execution_count": 4,
   "outputs": [
    {
     "name": "stdout",
     "output_type": "stream",
     "text": [
      "id=UUID('f6ac192d-2e3f-4026-a941-d66d0bc04d6b') title='Unknown' author='Unknown' content=[['Márketing', 'en internet y nueva economía\\nEconomía de experiencia\\nProfesores:\\nDr. Alejandro Prince\\nIng. Hernán Borré\\nIng. Maximiliano Bracho\\nAlumno', ':\\nGallazzi, Pablo Gabriel      143.370-2\\nFecha de Presentación\\n10/04/2017'], ['Cuestionario:\\n1.- ¿Qué 3 elementos hacen resurgir con fuerza la idea de una economía de experiencia?', '2.- Defina y caracterice una experiencia.', 'Diferencias con Producto y Servicio.', '3.- Explique y grafique las dimensiones y campos de la experiencia.', '4.- Describa “impresiones” y sus distintas dimensiones.', '5.- De 3 ejemplos distintos (reales si conoce, o invente) de experiencias con estimulación de los sentidos.', '6.-  Qué es la personalización masiva?', 'Explique la progresión del valor.', '7.- Cuáles son las ventajas para la empresa de la personalización masiva?', '8.- Describa los 4 tipos de personalización masiva.', '9.- ¿Qué aporta el ciberespacio al tema “sacrificio del cliente”?\\nRespuestas:\\n1.- Los tres elementos son:\\n●\\nEl poder de la tecnología que actúa como facilitador.', '●\\nLa creciente intensidad de la competencia que hace que se tengan que diferenciar.', '●\\nLa prosperidad,', 'es decir, hoy en día se busca menos rutina, más sorpresas\\n(experiencias)\\n2.- Cuando hablamos del producto nos referimos a, por ejemplo, una taza, un café, etc… Si nos referimos a un servicio hablamos de un conjunto de actividades es decir algo customizado para el cliente, pero cuando hablamos de una experiencia nos referimos a algo más, pagamos para disfrutar de una serie de eventos acondicionados para atraparnos y gozar de una manera distinta que solo comprar el producto o adquirir el servicio.', 'De hecho se usan los productos y servicios como herramientas para lograr entretener a los clientes.'], ['3.- Dimensiones:\\n●\\nGrado de participación que puede ser pasiva (el cliente es un observador) o activa (tiene como protagonista al cliente)\\n●\\nConexión cliente-evento que puede ir desde la atención o absorción hasta la inmersión física o virtual.', 'Estas dimensiones se cruzan generando los cuatro campos:\\n●\\nEntretenimiento: La persona pasivamente absorbe lo que lo que ocurre a través de sus sentidos.', '●\\nEducación: Alcanza con la atención por parte de la persona, pero requiere participación activa de la misma.', '●\\nEstética: El individuo se sumerge pero no participa.', '●\\nEscapismo: Máxima inmersión y protagonismo absoluto.', '4.- Cuando nos referimos a impresiones, hablamos de lo que se lleva el cliente de la experiencia vivida, es decir, los recuerdos.', 'Las dimensiones son:\\n●\\nTiempo: Tradicionales, contemporáneas o futuristas.', '●\\nEspacio: ¿Donde se desarrollan?', 'En el hogar, en el trabajo, interiores, exteriores, etc…\\n●\\nTecnología: Vanguardia, artesanales, naturales o artificiales.', '●\\nAutenticidad: Originales o imitaciones.', '●\\nSofisticación: Nivel de refinamiento o lujo.', '●\\nEscala: Grandioso, sencillo o pequeño.'], ['5.- Algunos ejemplo pueden ser Disney, Las Vegas, Starbucks, Restaurantes temáticos, Juegos Mentales (solojuegosmentales.com) y así podemos mencionar muchos otros.', '6.- La personalización masiva, se trata de atender a los clientes de una forma única, combinando los imperativos vigentes de bajo costo y la individualización que requiere el mercado.', 'Se trata de lograr lo mejor de ambas partes, masividad y personalización.', 'En un principio surgió la economía de las “commodities” (animales, minerales, vegetales etc...) Cuando a esas “commodities” se las empezó a usar como materia prima de productos, pasamos de una economía agraria a una industrial.', 'El problema es que con el tiempo se dió un proceso de comoditización y el producto se convirtió en “commoditie”.', 'El antídoto para eso es la personalización, y pasamos a una economía de servicios y con el tiempo se volvió a producir el proceso de comoditización.', 'Si otra vez aplicamos un proceso de personalización pasamos a la economía de la experiencia.', 'Cuanto más personalizado se haga, más alto es el precio al que se puede vender.', 'A esto Joseph Pine lo llama la progresión del valor.', '7.- Las ventajas para la empresa son varias, mejorar los precios, mayor ingreso por cliente, menor necesidad de hacer descuentos, más retención, y adquisición de clientes por un costo más bajo.', '8.- Los cuatro tipos son:\\n●\\nPersonalización colaborativa o experiencia exploratoria: La empresa interactúa directamente con el cliente, el producto final surge del trabajo conjunto.', 'Primero se modifica la representación y luego el producto.', '●\\nPersonalización adaptativa o experiencia real: En esta no cambia ni el producto ni la representación, sino que a partir de varias opciones el cliente cambia alguna funcionalidad (las opciones ya están incluidas en la oferta).', '●\\nPersonalización cosmética o experiencia gratificante: Customizar la representación, el producto se siente como diseñado para uno.', '●\\nPersonalización transparente o experiencia elusiva: El cliente ya recibe una oferta a medida y no se entera explícitamente del proceso de personalización\\n9.- El ciberespacio es un excelente medio para evaluar el nivel de sacrificio (brecha entre lo que el cliente realmente quiere y lo que termina aceptando).', 'Por ejemplo el email.', 'Además potencia el marketing uno a uno y el aprendizaje contínuo de las necesidades y gustos del cliente por parte de la empresa.']] date=None\n"
     ]
    }
   ],
   "source": [
    "\n",
    "from heimdallr.domain.models.assignment import Assignment\n",
    "\n",
    "assignment = Assignment(content=paragraphs)\n",
    "\n",
    "print(assignment)"
   ],
   "metadata": {
    "collapsed": false,
    "ExecuteTime": {
     "end_time": "2023-09-06T01:31:47.591982300Z",
     "start_time": "2023-09-06T01:31:47.438982700Z"
    }
   },
   "id": "9d02b46d65a7c012"
  },
  {
   "cell_type": "code",
   "execution_count": null,
   "outputs": [],
   "source": [],
   "metadata": {
    "collapsed": false
   },
   "id": "5d6096e82024aed1"
  }
 ],
 "metadata": {
  "kernelspec": {
   "name": "heimdallr",
   "language": "python",
   "display_name": "heimdallr"
  },
  "language_info": {
   "codemirror_mode": {
    "name": "ipython",
    "version": 2
   },
   "file_extension": ".py",
   "mimetype": "text/x-python",
   "name": "python",
   "nbconvert_exporter": "python",
   "pygments_lexer": "ipython2",
   "version": "2.7.6"
  }
 },
 "nbformat": 4,
 "nbformat_minor": 5
}
